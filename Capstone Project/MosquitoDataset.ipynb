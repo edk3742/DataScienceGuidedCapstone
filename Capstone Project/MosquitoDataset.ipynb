{
 "cells": [
  {
   "cell_type": "code",
   "execution_count": null,
   "metadata": {},
   "outputs": [],
   "source": [
    "import numpy as np\n",
    "import pandas as pd\n"
   ]
  },
  {
   "cell_type": "code",
   "execution_count": null,
   "metadata": {},
   "outputs": [],
   "source": [
    "import os\n",
    "dataset_path = os.path.join(os.getcwd(),'Dataset')\n",
    "datasets=[]\n",
    "for filename in os.listdir(dataset_path):\n",
    "    datasets.append(os.path.join(dataset_path,filename))\n",
    "print(datasets)"
   ]
  },
  {
   "cell_type": "code",
   "execution_count": null,
   "metadata": {},
   "outputs": [],
   "source": [
    "sample = pd.read_csv(datasets[3])\n",
    "spray = pd.read_csv(datasets[4])\n",
    "test = pd.read_csv(datasets[5])\n",
    "train = pd.read_csv(datasets[6])\n",
    "weather = pd.read_csv(datasets[7])"
   ]
  },
  {
   "cell_type": "code",
   "execution_count": null,
   "metadata": {},
   "outputs": [],
   "source": [
    "# train.columns\n",
    "# train.info()\n",
    "# train.describe\n",
    "print(train.isna().sum(),test.isna().sum())\n",
    "#no null data points\n"
   ]
  },
  {
   "cell_type": "code",
   "execution_count": null,
   "metadata": {},
   "outputs": [],
   "source": [
    "import matplotlib.pyplot as plt\n",
    "import seaborn as sns\n",
    "#visual EDA\n",
    "sns.scatterplot(data=train,x='Latitude',y='Longitude',size='NumMosquitos',sizes=(1,100))"
   ]
  },
  {
   "cell_type": "code",
   "execution_count": null,
   "metadata": {},
   "outputs": [],
   "source": [
    "sns.scatterplot(data=train,x='Latitude',y='Longitude',hue='WnvPresent',size='NumMosquitos')"
   ]
  },
  {
   "cell_type": "code",
   "execution_count": null,
   "metadata": {},
   "outputs": [],
   "source": [
    "sns.scatterplot(data=train,x='Latitude',y='Longitude',hue='Species')"
   ]
  },
  {
   "cell_type": "code",
   "execution_count": null,
   "metadata": {},
   "outputs": [],
   "source": [
    "#explore by species\n",
    "num_wnv = train.loc[train['WnvPresent']==1]['NumMosquitos'].sum()\n",
    "num_tot = train['NumMosquitos'].sum()\n",
    "print(f'Percentage of WNV for all mosquitos: {num_wnv/num_tot*100}%')"
   ]
  },
  {
   "cell_type": "code",
   "execution_count": null,
   "metadata": {},
   "outputs": [],
   "source": [
    "train.groupby(['Species','WnvPresent'])['NumMosquitos'].sum()\n",
    "#erraticus, salinarius, tarsalis, and territans have low number of data points"
   ]
  },
  {
   "cell_type": "code",
   "execution_count": null,
   "metadata": {},
   "outputs": [],
   "source": [
    "# train['Address'].apply(lambda st: st[st.find(\"IL\")+1:st.find(\", USA\")]).unique()\n",
    "train['zipcode'] = train['Address'].str.extract(r'(\\d{5}\\-?\\d{0,4})')"
   ]
  },
  {
   "cell_type": "code",
   "execution_count": null,
   "metadata": {},
   "outputs": [],
   "source": [
    "#find missing zipcodes"
   ]
  },
  {
   "cell_type": "code",
   "execution_count": 165,
   "metadata": {},
   "outputs": [],
   "source": [
    "import geopy\n",
    "def get_zipcode(df, geolocator, lat_field, lon_field):\n",
    "    location = geolocator.reverse((df[lat_field], df[lon_field]))\n",
    "    return location.raw['address']['postcode']\n",
    "\n",
    "\n",
    "geolocator = geopy.Nominatim(user_agent='geoapiExercises')\n",
    "\n",
    "df=train.loc[train['zipcode'].isna()]\n",
    "zipcodes = df.apply(get_zipcode, axis=1, geolocator=geolocator, lat_field='Latitude', lon_field='Longitude')\n",
    "\n",
    "fixed_train = train.loc[train['zipcode'].isna()]\n",
    "fixed_train['zipcode']=zipcodes\n",
    "fixed_train.to_csv('train_miss_zipcodes.csv')\n",
    "\n",
    "train.iloc[fixed_train.index]=fixed_train"
   ]
  },
  {
   "cell_type": "code",
   "execution_count": 177,
   "metadata": {},
   "outputs": [],
   "source": [
    "train.iloc[fixed_train.index]=fixed_train"
   ]
  },
  {
   "cell_type": "code",
   "execution_count": 184,
   "metadata": {},
   "outputs": [
    {
     "data": {
      "text/plain": [
       "Index(['Date', 'Address', 'Species', 'Block', 'Street', 'Trap',\n",
       "       'AddressNumberAndStreet', 'Latitude', 'Longitude', 'AddressAccuracy',\n",
       "       'NumMosquitos', 'WnvPresent', 'zipcode'],\n",
       "      dtype='object')"
      ]
     },
     "execution_count": 184,
     "metadata": {},
     "output_type": "execute_result"
    }
   ],
   "source": [
    "train.columns"
   ]
  },
  {
   "cell_type": "code",
   "execution_count": 191,
   "metadata": {},
   "outputs": [
    {
     "data": {
      "text/html": [
       "<div>\n",
       "<style scoped>\n",
       "    .dataframe tbody tr th:only-of-type {\n",
       "        vertical-align: middle;\n",
       "    }\n",
       "\n",
       "    .dataframe tbody tr th {\n",
       "        vertical-align: top;\n",
       "    }\n",
       "\n",
       "    .dataframe thead th {\n",
       "        text-align: right;\n",
       "    }\n",
       "</style>\n",
       "<table border=\"1\" class=\"dataframe\">\n",
       "  <thead>\n",
       "    <tr style=\"text-align: right;\">\n",
       "      <th></th>\n",
       "      <th>Date</th>\n",
       "      <th>Species</th>\n",
       "      <th>Street</th>\n",
       "      <th>Trap</th>\n",
       "      <th>Latitude</th>\n",
       "      <th>Longitude</th>\n",
       "      <th>NumMosquitos</th>\n",
       "      <th>WnvPresent</th>\n",
       "      <th>zipcode</th>\n",
       "    </tr>\n",
       "  </thead>\n",
       "  <tbody>\n",
       "    <tr>\n",
       "      <th>0</th>\n",
       "      <td>2007-05-29</td>\n",
       "      <td>CULEX PIPIENS/RESTUANS</td>\n",
       "      <td>N OAK PARK AVE</td>\n",
       "      <td>T002</td>\n",
       "      <td>41.954690</td>\n",
       "      <td>-87.800991</td>\n",
       "      <td>1</td>\n",
       "      <td>0</td>\n",
       "      <td>60634</td>\n",
       "    </tr>\n",
       "    <tr>\n",
       "      <th>1</th>\n",
       "      <td>2007-05-29</td>\n",
       "      <td>CULEX RESTUANS</td>\n",
       "      <td>N OAK PARK AVE</td>\n",
       "      <td>T002</td>\n",
       "      <td>41.954690</td>\n",
       "      <td>-87.800991</td>\n",
       "      <td>1</td>\n",
       "      <td>0</td>\n",
       "      <td>60634</td>\n",
       "    </tr>\n",
       "    <tr>\n",
       "      <th>2</th>\n",
       "      <td>2007-05-29</td>\n",
       "      <td>CULEX RESTUANS</td>\n",
       "      <td>N MANDELL AVE</td>\n",
       "      <td>T007</td>\n",
       "      <td>41.994991</td>\n",
       "      <td>-87.769279</td>\n",
       "      <td>1</td>\n",
       "      <td>0</td>\n",
       "      <td>60646</td>\n",
       "    </tr>\n",
       "    <tr>\n",
       "      <th>3</th>\n",
       "      <td>2007-05-29</td>\n",
       "      <td>CULEX PIPIENS/RESTUANS</td>\n",
       "      <td>W FOSTER AVE</td>\n",
       "      <td>T015</td>\n",
       "      <td>41.974089</td>\n",
       "      <td>-87.824812</td>\n",
       "      <td>1</td>\n",
       "      <td>0</td>\n",
       "      <td>60656</td>\n",
       "    </tr>\n",
       "    <tr>\n",
       "      <th>4</th>\n",
       "      <td>2007-05-29</td>\n",
       "      <td>CULEX RESTUANS</td>\n",
       "      <td>W FOSTER AVE</td>\n",
       "      <td>T015</td>\n",
       "      <td>41.974089</td>\n",
       "      <td>-87.824812</td>\n",
       "      <td>4</td>\n",
       "      <td>0</td>\n",
       "      <td>60656</td>\n",
       "    </tr>\n",
       "    <tr>\n",
       "      <th>...</th>\n",
       "      <td>...</td>\n",
       "      <td>...</td>\n",
       "      <td>...</td>\n",
       "      <td>...</td>\n",
       "      <td>...</td>\n",
       "      <td>...</td>\n",
       "      <td>...</td>\n",
       "      <td>...</td>\n",
       "      <td>...</td>\n",
       "    </tr>\n",
       "    <tr>\n",
       "      <th>10501</th>\n",
       "      <td>2013-09-26</td>\n",
       "      <td>CULEX PIPIENS/RESTUANS</td>\n",
       "      <td>W 72ND ST</td>\n",
       "      <td>T035</td>\n",
       "      <td>41.763733</td>\n",
       "      <td>-87.742302</td>\n",
       "      <td>6</td>\n",
       "      <td>1</td>\n",
       "      <td>60638</td>\n",
       "    </tr>\n",
       "    <tr>\n",
       "      <th>10502</th>\n",
       "      <td>2013-09-26</td>\n",
       "      <td>CULEX PIPIENS/RESTUANS</td>\n",
       "      <td>N RIDGE AVE</td>\n",
       "      <td>T231</td>\n",
       "      <td>41.987280</td>\n",
       "      <td>-87.666066</td>\n",
       "      <td>5</td>\n",
       "      <td>0</td>\n",
       "      <td>60660</td>\n",
       "    </tr>\n",
       "    <tr>\n",
       "      <th>10503</th>\n",
       "      <td>2013-09-26</td>\n",
       "      <td>CULEX PIPIENS/RESTUANS</td>\n",
       "      <td>N ASHLAND AVE</td>\n",
       "      <td>T232</td>\n",
       "      <td>41.912563</td>\n",
       "      <td>-87.668055</td>\n",
       "      <td>1</td>\n",
       "      <td>0</td>\n",
       "      <td>60622</td>\n",
       "    </tr>\n",
       "    <tr>\n",
       "      <th>10504</th>\n",
       "      <td>2013-09-26</td>\n",
       "      <td>CULEX PIPIENS/RESTUANS</td>\n",
       "      <td>N HARLEM AVE</td>\n",
       "      <td>T233</td>\n",
       "      <td>42.009876</td>\n",
       "      <td>-87.807277</td>\n",
       "      <td>5</td>\n",
       "      <td>0</td>\n",
       "      <td>60631</td>\n",
       "    </tr>\n",
       "    <tr>\n",
       "      <th>10505</th>\n",
       "      <td>2013-09-26</td>\n",
       "      <td>CULEX PIPIENS/RESTUANS</td>\n",
       "      <td>W 65TH ST</td>\n",
       "      <td>T235</td>\n",
       "      <td>41.776428</td>\n",
       "      <td>-87.627096</td>\n",
       "      <td>1</td>\n",
       "      <td>0</td>\n",
       "      <td>60621</td>\n",
       "    </tr>\n",
       "  </tbody>\n",
       "</table>\n",
       "<p>10506 rows × 9 columns</p>\n",
       "</div>"
      ],
      "text/plain": [
       "             Date                 Species           Street  Trap   Latitude  \\\n",
       "0      2007-05-29  CULEX PIPIENS/RESTUANS   N OAK PARK AVE  T002  41.954690   \n",
       "1      2007-05-29          CULEX RESTUANS   N OAK PARK AVE  T002  41.954690   \n",
       "2      2007-05-29          CULEX RESTUANS    N MANDELL AVE  T007  41.994991   \n",
       "3      2007-05-29  CULEX PIPIENS/RESTUANS     W FOSTER AVE  T015  41.974089   \n",
       "4      2007-05-29          CULEX RESTUANS     W FOSTER AVE  T015  41.974089   \n",
       "...           ...                     ...              ...   ...        ...   \n",
       "10501  2013-09-26  CULEX PIPIENS/RESTUANS        W 72ND ST  T035  41.763733   \n",
       "10502  2013-09-26  CULEX PIPIENS/RESTUANS      N RIDGE AVE  T231  41.987280   \n",
       "10503  2013-09-26  CULEX PIPIENS/RESTUANS    N ASHLAND AVE  T232  41.912563   \n",
       "10504  2013-09-26  CULEX PIPIENS/RESTUANS     N HARLEM AVE  T233  42.009876   \n",
       "10505  2013-09-26  CULEX PIPIENS/RESTUANS        W 65TH ST  T235  41.776428   \n",
       "\n",
       "       Longitude  NumMosquitos  WnvPresent zipcode  \n",
       "0     -87.800991             1           0   60634  \n",
       "1     -87.800991             1           0   60634  \n",
       "2     -87.769279             1           0   60646  \n",
       "3     -87.824812             1           0   60656  \n",
       "4     -87.824812             4           0   60656  \n",
       "...          ...           ...         ...     ...  \n",
       "10501 -87.742302             6           1   60638  \n",
       "10502 -87.666066             5           0   60660  \n",
       "10503 -87.668055             1           0   60622  \n",
       "10504 -87.807277             5           0   60631  \n",
       "10505 -87.627096             1           0   60621  \n",
       "\n",
       "[10506 rows x 9 columns]"
      ]
     },
     "execution_count": 191,
     "metadata": {},
     "output_type": "execute_result"
    }
   ],
   "source": [
    "train2 = train.drop(['Address','Block','AddressNumberAndStreet','AddressAccuracy'],axis=1)\n",
    "train2"
   ]
  },
  {
   "cell_type": "code",
   "execution_count": 221,
   "metadata": {},
   "outputs": [],
   "source": [
    "res=set()\n",
    "weather.CodeSum.str.split().apply(res.update)\n",
    "for i in res:\n",
    "    weather[i] = weather.CodeSum.apply(lambda x: 1 if i in x else 0)\n",
    "    \n",
    "weather['Sunrise'] = weather['Sunrise'].replace('-',np.nan).ffill()\n",
    "weather['Sunset'] = weather['Sunset'].replace('-',np.nan).ffill()"
   ]
  },
  {
   "cell_type": "code",
   "execution_count": 223,
   "metadata": {},
   "outputs": [
    {
     "data": {
      "text/plain": [
       "Index(['Station', 'Date', 'Tmax', 'Tmin', 'Tavg', 'Depart', 'DewPoint',\n",
       "       'WetBulb', 'Heat', 'Cool', 'Sunrise', 'Sunset', 'CodeSum', 'Depth',\n",
       "       'Water1', 'SnowFall', 'PrecipTotal', 'StnPressure', 'SeaLevel',\n",
       "       'ResultSpeed', 'ResultDir', 'AvgSpeed', 'MIFG', 'FU', 'FG', 'BR',\n",
       "       'VCFG', 'BCFG', 'SQ', 'DZ', 'FG+', 'TSRA', 'GR', 'RA', 'TS', 'SN',\n",
       "       'VCTS', 'HZ'],\n",
       "      dtype='object')"
      ]
     },
     "execution_count": 223,
     "metadata": {},
     "output_type": "execute_result"
    }
   ],
   "source": []
  },
  {
   "cell_type": "code",
   "execution_count": 227,
   "metadata": {},
   "outputs": [
    {
     "data": {
      "text/plain": [
       "array(['-'], dtype=object)"
      ]
     },
     "execution_count": 227,
     "metadata": {},
     "output_type": "execute_result"
    }
   ],
   "source": [
    "weather.loc[weather['Station']==2]['Sunrise'].unique()"
   ]
  },
  {
   "cell_type": "code",
   "execution_count": 243,
   "metadata": {},
   "outputs": [],
   "source": [
    "weather['Sunrise'] = weather['Sunrise'].replace('-',np.nan)\\\n",
    "                                        .ffill()\\\n",
    "                                        .apply(int)/2400\n",
    "\n",
    "weather['Sunset'] = weather['Sunset'].replace('-',np.nan)\\\n",
    "                                        .ffill()\\\n",
    "                                        .apply(int)/2400\n",
    "\n",
    "weather2 = weather.drop(['Depart','Depth','Water1','SnowFall','PrecipTotal'])                                        "
   ]
  },
  {
   "cell_type": "code",
   "execution_count": 244,
   "metadata": {},
   "outputs": [
    {
     "data": {
      "text/plain": [
       "0       0.186667\n",
       "1       0.186667\n",
       "2       0.186250\n",
       "3       0.186250\n",
       "4       0.185833\n",
       "          ...   \n",
       "2939    0.258333\n",
       "2940    0.259167\n",
       "2941    0.259167\n",
       "2942    0.259583\n",
       "2943    0.259583\n",
       "Name: Sunrise, Length: 2944, dtype: float64"
      ]
     },
     "execution_count": 244,
     "metadata": {},
     "output_type": "execute_result"
    }
   ],
   "source": []
  },
  {
   "cell_type": "code",
   "execution_count": null,
   "metadata": {},
   "outputs": [],
   "source": []
  }
 ],
 "metadata": {
  "interpreter": {
   "hash": "532898ae7748393b9689e0bd4faf7b610d272bc6bb8734008bf2ad04433be17e"
  },
  "kernelspec": {
   "display_name": "Python 3.9.9 64-bit",
   "language": "python",
   "name": "python3"
  },
  "language_info": {
   "codemirror_mode": {
    "name": "ipython",
    "version": 3
   },
   "file_extension": ".py",
   "mimetype": "text/x-python",
   "name": "python",
   "nbconvert_exporter": "python",
   "pygments_lexer": "ipython3",
   "version": "3.9.9"
  },
  "orig_nbformat": 4
 },
 "nbformat": 4,
 "nbformat_minor": 2
}
