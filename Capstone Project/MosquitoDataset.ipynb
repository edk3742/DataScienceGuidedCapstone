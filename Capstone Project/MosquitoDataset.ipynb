{
 "cells": [
  {
   "cell_type": "code",
   "execution_count": null,
   "metadata": {},
   "outputs": [],
   "source": [
    "import numpy as np\n",
    "import pandas as pd\n",
    "import os\n",
    "import matplotlib.pyplot as plt\n",
    "import seaborn as sns\n",
    "import datetime as dt"
   ]
  },
  {
   "cell_type": "code",
   "execution_count": null,
   "metadata": {},
   "outputs": [],
   "source": [
    "dataset_path = os.path.join(os.getcwd(),'Dataset')\n",
    "datasets=[]\n",
    "for filename in os.listdir(dataset_path):\n",
    "    datasets.append(os.path.join(dataset_path,filename))\n",
    "print(datasets)"
   ]
  },
  {
   "cell_type": "code",
   "execution_count": null,
   "metadata": {},
   "outputs": [],
   "source": [
    "sample = pd.read_csv(datasets[3])\n",
    "spray = pd.read_csv(datasets[4])\n",
    "test = pd.read_csv(datasets[5])\n",
    "train = pd.read_csv(datasets[6])\n",
    "weather = pd.read_csv(datasets[7])"
   ]
  },
  {
   "cell_type": "markdown",
   "metadata": {},
   "source": [
    "## EDA"
   ]
  },
  {
   "cell_type": "code",
   "execution_count": null,
   "metadata": {},
   "outputs": [],
   "source": [
    "# train.columns\n",
    "# train.info()\n",
    "# train.describe\n",
    "print(train.isna().sum(),test.isna().sum())\n"
   ]
  },
  {
   "cell_type": "code",
   "execution_count": null,
   "metadata": {},
   "outputs": [],
   "source": [
    "#visualize EDA\n",
    "sns.scatterplot(data=train,x='Latitude',y='Longitude',size='NumMosquitos',sizes=(1,100))\n",
    "#mosquitoes present in a diverse range of locations"
   ]
  },
  {
   "cell_type": "code",
   "execution_count": null,
   "metadata": {},
   "outputs": [],
   "source": [
    "sns.scatterplot(data=train,x='Latitude',y='Longitude',hue='WnvPresent',size='NumMosquitos')\n",
    "#WNV concentrated in certain locations"
   ]
  },
  {
   "cell_type": "code",
   "execution_count": null,
   "metadata": {},
   "outputs": [],
   "source": [
    "sns.scatterplot(data=train,x='Latitude',y='Longitude',hue='Species')\n",
    "#CULEX PIPIENS/RESTUANS are the dominant species"
   ]
  },
  {
   "cell_type": "markdown",
   "metadata": {},
   "source": [
    "## Data Wrangling"
   ]
  },
  {
   "cell_type": "code",
   "execution_count": null,
   "metadata": {},
   "outputs": [],
   "source": [
    "#month column\n",
    "dates = pd.to_datetime(train['Date'])\n",
    "train['month'] = dates.apply(lambda x: x.month)"
   ]
  },
  {
   "cell_type": "code",
   "execution_count": null,
   "metadata": {},
   "outputs": [],
   "source": [
    "#explore by species\n",
    "num_wnv = train.loc[train['WnvPresent']==1]['NumMosquitos'].sum()\n",
    "num_tot = train['NumMosquitos'].sum()\n",
    "print(f'Percentage of WNV for all mosquitos: {num_wnv/num_tot*100}%')"
   ]
  },
  {
   "cell_type": "code",
   "execution_count": null,
   "metadata": {},
   "outputs": [],
   "source": [
    "#explore species by percentage with WNV\n",
    "train.groupby(['Species','WnvPresent'])['NumMosquitos'].sum()/train.groupby(['Species'])['NumMosquitos'].sum()\n",
    "train.groupby(['Species','WnvPresent'])['NumMosquitos'].sum()/num_tot\n",
    "#erraticus, salinarius, tarsalis, and territans have low number of data points\n",
    "#culex pipiens has the highest relative percentage of WNV (15%)"
   ]
  },
  {
   "cell_type": "code",
   "execution_count": null,
   "metadata": {},
   "outputs": [],
   "source": [
    "#convert latitude, longitude, and address data so it is simply a \n",
    "# code\n",
    "\n",
    "# train['Address'].apply(lambda st: st[st.find(\"IL\")+1:st.find(\", USA\")]).unique()\n",
    "train['zipcode'] = train['Address'].str.extract(r'(\\d{5}\\-?\\d{0,4})')\n",
    "#find missing zipcodes\n",
    "fixed_train = pd.read_csv('train_miss_zipcodes.csv')\n",
    "fixed_train = fixed_train.set_index('Unnamed: 0')\n",
    "zipcodes = fixed_train.zipcode.values\n",
    "train.loc[fixed_train.index,'zipcode']=zipcodes"
   ]
  },
  {
   "cell_type": "code",
   "execution_count": null,
   "metadata": {},
   "outputs": [],
   "source": [
    "# import geopy\n",
    "# def get_zipcode(df, geolocator, lat_field, lon_field):\n",
    "#     location = geolocator.reverse((df[lat_field], df[lon_field]))\n",
    "#     return location.raw['address']['postcode']\n",
    "\n",
    "\n",
    "# geolocator = geopy.Nominatim(user_agent='geoapiExercises')\n",
    "\n",
    "# df=train.loc[train['zipcode'].isna()]\n",
    "# zipcodes = df.apply(get_zipcode, axis=1, geolocator=geolocator, lat_field='Latitude', lon_field='Longitude')\n",
    "\n",
    "# fixed_train = train.loc[train['zipcode'].isna()]\n",
    "# fixed_train['zipcode']=zipcodes\n",
    "# fixed_train.to_csv('train_miss_zipcodes.csv')"
   ]
  },
  {
   "cell_type": "code",
   "execution_count": null,
   "metadata": {},
   "outputs": [],
   "source": [
    "#convert latitude, longitude, and address data so it is simply a zipcode for spray data\n",
    "\n",
    "\n",
    "# Import packages\n",
    "from uszipcode import SearchEngine\n",
    "search = SearchEngine()\n",
    "import numpy as np\n",
    "\n",
    "#define zipcode search function\n",
    "def get_zipcode(lat, lon):\n",
    "    result = search.by_coordinates(lat = lat, lng = lon, returns = 1)\n",
    "    return result[0].zipcode\n",
    "\n",
    "#load columns from dataframe\n",
    "lat = spray['Latitude']\n",
    "lon = spray['Longitude']\n",
    "date = spray.Date\n",
    "\n",
    "#define latitude/longitude for function\n",
    "spray_df = pd.DataFrame({'Date':date,'Latitude':lat, 'Longitude':lon})\n",
    "\n",
    "#add new column with generated zip-code\n",
    "spray_df['zipcode'] = spray_df.apply(lambda x: get_zipcode(x.Latitude,x.Longitude), axis=1)\n",
    "\n",
    "#print result\n",
    "print(spray_df)\n",
    "\n",
    "#(optional) save as csv\n",
    "# df.to_csv(r'zip_codes.csv')"
   ]
  },
  {
   "cell_type": "code",
   "execution_count": null,
   "metadata": {},
   "outputs": [],
   "source": [
    "for i in train.Trap.unique():\n",
    "    if len(train.loc[train.Trap == i].Latitude.unique())>1:\n",
    "        print(f'lat {i}')\n",
    "    if len(train.loc[train.Trap == i].Longitude.unique())>1:\n",
    "        print(f'long {i}')\n",
    "#only two traps have multiple Latitude/Longitudes\n",
    "#therefore trap number and latitude/longitude are dependent variables\n",
    "#we will drop the latitude,longitude, and trap identifier and create dummy columns of the zipcode"
   ]
  },
  {
   "cell_type": "code",
   "execution_count": null,
   "metadata": {},
   "outputs": [],
   "source": [
    "train2 = train.drop(['Trap','Latitude','Longitude','Address','Block','Street','AddressNumberAndStreet','AddressAccuracy'],axis=1)"
   ]
  },
  {
   "cell_type": "markdown",
   "metadata": {},
   "source": [
    "## Spray Data"
   ]
  },
  {
   "cell_type": "code",
   "execution_count": null,
   "metadata": {},
   "outputs": [],
   "source": [
    "sns.scatterplot(data=spray,x='Latitude',y='Longitude')\n",
    "#spray data is concentrated in specific locations"
   ]
  },
  {
   "cell_type": "code",
   "execution_count": null,
   "metadata": {},
   "outputs": [],
   "source": [
    "# Create two new columns that sum up the number of sprays at a specific zipcode\n",
    "# sprays in the past 2 weeks\n",
    "# sprays in the past 1 month\n",
    "train2['spray-2w']=0\n",
    "train2['spray-1m']=0\n",
    "\n",
    "\n",
    "date = pd.to_datetime(train2.Date)\n",
    "df2=spray_df[['Date','zipcode']].groupby(['Date','zipcode']).size()\n",
    "date_spray = pd.to_datetime(df2.index.get_level_values(level=0)\\\n",
    "                                .to_list())\n",
    "\n",
    "new_index = df2.index.map(lambda x: (pd.to_datetime(x[0]),x[1]))\n",
    "df2.index = pd.MultiIndex.from_tuples(new_index, names=[\"date\", \"zipcode\"])\n",
    "\n",
    "for index,val in df2.items():\n",
    "    w4_ub = (date - index[0]).apply(lambda x: x.days) < 28\n",
    "    w2_ub = (date - index[0]).apply(lambda x: x.days) < 14\n",
    "    w2_lb = (date - index[0]).apply(lambda x: x.days) > 0\n",
    "    \n",
    "    zipc = train2.zipcode == index[1]\n",
    "\n",
    "    train2.loc[w2_ub & w2_lb & zipc,'spray-2w']+=val\n",
    "    train2.loc[w4_ub & w2_lb & zipc,'spray-1m']+=val"
   ]
  },
  {
   "cell_type": "markdown",
   "metadata": {},
   "source": [
    "## Weather"
   ]
  },
  {
   "cell_type": "code",
   "execution_count": null,
   "metadata": {},
   "outputs": [],
   "source": [
    "# convert date column to datetime\n",
    "weather.Date = pd.to_datetime(weather.Date)\n",
    "\n",
    "# seperate codesum column as categorical columns\n",
    "res=set()\n",
    "weather1 = weather.loc[weather['Station']==1]\n",
    "weather1.CodeSum.str.split().apply(res.update)\n",
    "for i in res:\n",
    "    weather1[i] = weather1.CodeSum.apply(lambda x: 1 if i in x else 0)\n",
    "\n",
    "weather1 = weather1.drop(['CodeSum','Station'],axis=1)"
   ]
  },
  {
   "cell_type": "code",
   "execution_count": null,
   "metadata": {},
   "outputs": [],
   "source": [
    "weather1.PrecipTotal = weather1.PrecipTotal.apply(lambda x: 0.01 if 'T' in x else x)"
   ]
  },
  {
   "cell_type": "code",
   "execution_count": null,
   "metadata": {},
   "outputs": [],
   "source": [
    "# normalize time of sunrise and time of sunset columns\n",
    "weather1['Sunrise'] = weather1['Sunrise'].replace('-',np.nan)\\\n",
    "                                        .ffill()\\\n",
    "                                        .apply(int)/2400\n",
    "\n",
    "weather1['Sunset'] = weather1['Sunset'].replace('-',np.nan)\\\n",
    "                                        .ffill()\\\n",
    "                                        .apply(int)/2400\n",
    "\n",
    "# # forward fill departure data\n",
    "# weather1.loc[weather1['Depart'].str.contains('M'),'Depart']=np.nan\n",
    "# weather1['Depart'] = weather1['Depart'].ffill()\n",
    "\n",
    "# drop columns\n",
    "# Depth is missing 50%\n",
    "# Water1 is completely missing\n",
    "# SnowFall is missing 50%\n",
    "# SeaLevel does not vary enough to be significant\n",
    "weather1 = weather1.drop(['Depth','Water1','SnowFall','SeaLevel'],axis=1)      \n",
    "tavgmiss = weather1.loc[weather1['Heat'].str.contains('M')]\n",
    "tavgmiss['Tavg'] = (tavgmiss['Tmax']+tavgmiss['Tmin'])/2\n",
    "\n",
    "weather1.loc[tavgmiss.index]['Tavg']=tavgmiss['Tavg']\n",
    "\n",
    "#delete any missing values \n",
    "for i in weather1.columns:\n",
    "    try:\n",
    "        weather1 = weather1.loc[~weather1[i].str.contains('M|T')]\n",
    "    except:\n",
    "        pass"
   ]
  },
  {
   "cell_type": "code",
   "execution_count": null,
   "metadata": {},
   "outputs": [],
   "source": [
    "# weather_st1 = weather2.loc[weather2['Station']==1]\\\n",
    "#                         .drop(['Station'],axis=1)"
   ]
  },
  {
   "cell_type": "code",
   "execution_count": null,
   "metadata": {},
   "outputs": [],
   "source": [
    "# lags = ['lag_7d_Date','lag_2w_Date','lag_1mo_Date']\n",
    "# days = [7,14,28]\n",
    "# train2.Date = pd.to_datetime(train2.Date)\n",
    "# train_new = train2.merge(weather1, on='Date')\n",
    "\n",
    "\n",
    "# for idx,val in enumerate(days):\n",
    "    \n",
    "#     lag_dates = list(pd.to_datetime(train2.Date.unique()) - pd.Timedelta(val,unit='d'))\n",
    "#     train_dates = pd.to_datetime(train2['Date'].unique())\n",
    "#     lag_dict = dict(zip(train_dates,lag_dates))\n",
    "#     train_new[lags[idx]+\"_Date\"] = train2['Date'].apply(lambda x: lag_dict[x])\n",
    "\n",
    "#     df_lag = weather1.loc[weather1.Date.isin(train_dates)]\n",
    "#     df_lag = df_lag.add_prefix(lags[idx]+'_')\n",
    "\n",
    "#     train_new = pd.merge(train_new, df_lag, left_on='Date', right_on=lags[idx]+'_Date')\n",
    "    \n",
    "# train_new = train_new.loc[:,[i for i in train_new.columns if 'Date' not in i or 'CodeSum' not in i]]\n"
   ]
  },
  {
   "cell_type": "code",
   "execution_count": null,
   "metadata": {},
   "outputs": [],
   "source": [
    "lags = ['lag_7d','lag_2w','lag_1mo']\n",
    "days = [7,14,28]\n",
    "train2.Date = pd.to_datetime(train2.Date)\n",
    "train_new = train2.merge(weather1, on='Date')\n",
    "train_new = train_new.drop(['Tmin','Tmax','Sunset','DewPoint','Sunrise'],axis=1)\n",
    "\n",
    "for idx,val in enumerate(days):\n",
    "    train_new[lags[idx]+'_Date'] = train_new['Date'].apply(lambda x: x-pd.Timedelta(val,unit='d'))\n",
    "    \n",
    "    lag_dates = train_new[lags[idx]+'_Date'].unique()\n",
    "    df_lag = weather1.loc[weather1.Date.isin(lag_dates)]\\\n",
    "                        .drop(['Sunrise','Sunset','DewPoint','Tmax','Tmin'],axis=1)\n",
    "\n",
    "    df_lag = df_lag.add_prefix(lags[idx]+'_')\n",
    "\n",
    "\n",
    "\n",
    "    train_new = train_new.merge(df_lag, left_on=lags[idx]+'_Date', right_on=lags[idx]+'_Date')\n",
    "\n",
    "words= ['Date','CodeSum']\n",
    "for w in words:\n",
    "    train_new = train_new.drop([i for i in train_new.columns if w in i],axis=1)\n",
    "train_new\n"
   ]
  },
  {
   "cell_type": "markdown",
   "metadata": {},
   "source": [
    "## Cluster"
   ]
  },
  {
   "cell_type": "code",
   "execution_count": null,
   "metadata": {},
   "outputs": [],
   "source": [
    "train_new = pd.get_dummies(train_new,columns=['Species','zipcode','month','Tavg'])\n",
    "train_new = train_new.loc[:,~train_new.columns.duplicated()].copy()\n"
   ]
  },
  {
   "cell_type": "code",
   "execution_count": null,
   "metadata": {},
   "outputs": [],
   "source": [
    "corrmat = train_new.corr()\n",
    "sns.heatmap(corrmat)"
   ]
  },
  {
   "cell_type": "code",
   "execution_count": null,
   "metadata": {},
   "outputs": [],
   "source": [
    "wnv = abs(corrmat['WnvPresent']).sort_values(ascending=False)\n",
    "mosq = abs(corrmat['NumMosquitos']).sort_values(ascending=False)"
   ]
  },
  {
   "cell_type": "code",
   "execution_count": 217,
   "metadata": {},
   "outputs": [],
   "source": [
    "# select the highest correlated columns with WNVPresent\n",
    "df_wnv = train_new[wnv[wnv>0.01].index]"
   ]
  },
  {
   "cell_type": "code",
   "execution_count": 221,
   "metadata": {},
   "outputs": [
    {
     "data": {
      "text/html": [
       "<div>\n",
       "<style scoped>\n",
       "    .dataframe tbody tr th:only-of-type {\n",
       "        vertical-align: middle;\n",
       "    }\n",
       "\n",
       "    .dataframe tbody tr th {\n",
       "        vertical-align: top;\n",
       "    }\n",
       "\n",
       "    .dataframe thead th {\n",
       "        text-align: right;\n",
       "    }\n",
       "</style>\n",
       "<table border=\"1\" class=\"dataframe\">\n",
       "  <thead>\n",
       "    <tr style=\"text-align: right;\">\n",
       "      <th></th>\n",
       "      <th>variables</th>\n",
       "      <th>VIF</th>\n",
       "    </tr>\n",
       "  </thead>\n",
       "  <tbody>\n",
       "    <tr>\n",
       "      <th>12</th>\n",
       "      <td>ResultSpeed</td>\n",
       "      <td>9.045273</td>\n",
       "    </tr>\n",
       "    <tr>\n",
       "      <th>86</th>\n",
       "      <td>lag_7d_BR</td>\n",
       "      <td>6.062613</td>\n",
       "    </tr>\n",
       "    <tr>\n",
       "      <th>2</th>\n",
       "      <td>month_8</td>\n",
       "      <td>5.973940</td>\n",
       "    </tr>\n",
       "    <tr>\n",
       "      <th>9</th>\n",
       "      <td>lag_7d_TS</td>\n",
       "      <td>5.933982</td>\n",
       "    </tr>\n",
       "    <tr>\n",
       "      <th>31</th>\n",
       "      <td>lag_1mo_BR</td>\n",
       "      <td>5.665306</td>\n",
       "    </tr>\n",
       "    <tr>\n",
       "      <th>...</th>\n",
       "      <td>...</td>\n",
       "      <td>...</td>\n",
       "    </tr>\n",
       "    <tr>\n",
       "      <th>85</th>\n",
       "      <td>zipcode_60613</td>\n",
       "      <td>1.016354</td>\n",
       "    </tr>\n",
       "    <tr>\n",
       "      <th>58</th>\n",
       "      <td>zipcode_60646</td>\n",
       "      <td>1.014191</td>\n",
       "    </tr>\n",
       "    <tr>\n",
       "      <th>82</th>\n",
       "      <td>zipcode_60605</td>\n",
       "      <td>1.013703</td>\n",
       "    </tr>\n",
       "    <tr>\n",
       "      <th>89</th>\n",
       "      <td>zipcode_60615</td>\n",
       "      <td>1.012335</td>\n",
       "    </tr>\n",
       "    <tr>\n",
       "      <th>87</th>\n",
       "      <td>zipcode_60640</td>\n",
       "      <td>1.011921</td>\n",
       "    </tr>\n",
       "  </tbody>\n",
       "</table>\n",
       "<p>90 rows × 2 columns</p>\n",
       "</div>"
      ],
      "text/plain": [
       "        variables       VIF\n",
       "12    ResultSpeed  9.045273\n",
       "86      lag_7d_BR  6.062613\n",
       "2         month_8  5.973940\n",
       "9       lag_7d_TS  5.933982\n",
       "31     lag_1mo_BR  5.665306\n",
       "..            ...       ...\n",
       "85  zipcode_60613  1.016354\n",
       "58  zipcode_60646  1.014191\n",
       "82  zipcode_60605  1.013703\n",
       "89  zipcode_60615  1.012335\n",
       "87  zipcode_60640  1.011921\n",
       "\n",
       "[90 rows x 2 columns]"
      ]
     },
     "execution_count": 221,
     "metadata": {},
     "output_type": "execute_result"
    }
   ],
   "source": [
    "# check for collinearity using:\n",
    "# VIF = 1 / tolerance\n",
    "# tolerance = 1 - Rj2\n",
    "# least square regression \n",
    "from statsmodels.stats.outliers_influence import variance_inflation_factor\n",
    "\n",
    "def calc_vif(X):\n",
    "\n",
    "    # Calculating VIF\n",
    "    vif = pd.DataFrame()\n",
    "    vif[\"variables\"] = X.columns\n",
    "    vif[\"VIF\"] = [variance_inflation_factor(X.values, i) for i in range(X.shape[1])]\n",
    "\n",
    "    return(vif)\n",
    "\n",
    "df_wnv2 = df_wnv.drop(['lag_7d_TSRA','lag_2w_TSRA','lag_1mo_TSRA','TSRA','lag_1mo_ResultSpeed','lag_1mo_FU',\n",
    "                        'lag_2w_ResultSpeed','lag_7d_ResultSpeed','lag_7d_ResultDir','lag_2w_ResultDir','lag_1mo_ResultDir',\n",
    "                        'lag_7d_FG+','lag_7d_MIFG','Species_CULEX PIPIENS/RESTUANS','Tavg_81','lag_2w_VCTS','lag_1mo_RA'],axis=1)\n",
    "\n",
    "df_vif=calc_vif(df_wnv2.astype(float))\n",
    "df_vif.sort_values('VIF',ascending=False)"
   ]
  },
  {
   "cell_type": "code",
   "execution_count": 222,
   "metadata": {},
   "outputs": [],
   "source": [
    "from sklearn.model_selection import train_test_split, GridSearchCV\n",
    "from imblearn.under_sampling import RandomUnderSampler\n",
    "\n",
    "X = df_wnv2.drop(['WnvPresent'],axis=1)\n",
    "y = df_wnv2['WnvPresent']\n",
    "\n",
    "rus = RandomUnderSampler(sampling_strategy=1)\n",
    "\n",
    "\n",
    "X_train, X_test, y_train, y_test = train_test_split(X,y,test_size=.25,random_state=42)\n",
    "\n",
    "\n",
    "X_res, y_res = rus.fit_resample(X_train,y_train)\n",
    "\n",
    "\n",
    "# SMOTE alternative\n",
    "# sm = SMOTE(random_state=42)\n",
    "# X_res, y_res = sm.fit_resample(X_train, y_train)"
   ]
  },
  {
   "cell_type": "code",
   "execution_count": 223,
   "metadata": {},
   "outputs": [
    {
     "data": {
      "text/plain": [
       "<AxesSubplot:ylabel='WnvPresent'>"
      ]
     },
     "execution_count": 223,
     "metadata": {},
     "output_type": "execute_result"
    },
    {
     "data": {
      "image/png": "[encoded data removed]",
      "text/plain": [
       "<Figure size 432x288 with 1 Axes>"
      ]
     },
     "metadata": {},
     "output_type": "display_data"
    }
   ],
   "source": [
    "# visualize the sampler\n",
    "y_res.value_counts().plot.pie(autopct='%.2f')"
   ]
  },
  {
   "cell_type": "markdown",
   "metadata": {},
   "source": [
    "## KNN Classifier"
   ]
  },
  {
   "cell_type": "code",
   "execution_count": null,
   "metadata": {},
   "outputs": [],
   "source": [
    "from sklearn.neighbors import KNeighborsClassifier\n",
    "from sklearn.metrics import classification_report, confusion_matrix, accuracy_score\n",
    "from sklearn.metrics import confusion_matrix\n",
    "\n",
    "k_range = list(range(1,31))\n",
    "weight_options = ['uniform','distance']\n",
    "\n",
    "param_grid = dict(n_neighbors=k_range, weights=weight_options)\n",
    "\n",
    "knn = KNeighborsClassifier()\n",
    "grid = GridSearchCV(knn, param_grid, cv=10, scoring='f1')\n",
    "grid.fit(X_res, y_res)\n",
    "\n",
    "\n",
    "knn=KNeighborsClassifier(**grid.best_params_)\n",
    "knn.fit(X_res,y_res)\n",
    "y_pred = knn.predict(X_test)\n",
    "\n",
    "tn, fp, fn, tp = confusion_matrix(y_test, y_pred).ravel()\n",
    "\n",
    "print('From Confusion Matrix:')\n",
    "print(\"True Negatives: %s\" % tn)\n",
    "print(\"False Positives: %s\" % fp)\n",
    "print(\"False Negatives: %s\" % fn)\n",
    "print(\"True Positives: %s\" % tp)\n",
    "\n",
    "report = classification_report(y_test,y_pred,target_names=['No WNV','WNV Present'],output_dict=True)\n",
    "pd.DataFrame(report)"
   ]
  },
  {
   "cell_type": "markdown",
   "metadata": {},
   "source": [
    "## Random Forest"
   ]
  },
  {
   "cell_type": "code",
   "execution_count": null,
   "metadata": {},
   "outputs": [],
   "source": [
    "from scipy.stats import randint\n",
    "from sklearn.ensemble import RandomForestClassifier\n",
    "from sklearn.model_selection import RandomizedSearchCV\n",
    "\n",
    "\n",
    "\n",
    "# Number of trees in random forest\n",
    "n_estimators = [int(x) for x in np.linspace(start = 10, stop = 80, num = 10)]\n",
    "# Number of features to consider at every split\n",
    "max_features = ['auto', 'sqrt']\n",
    "# Maximum number of levels in tree\n",
    "max_depth = [2,4]\n",
    "# Minimum number of samples required to split a node\n",
    "min_samples_split = [2, 5]\n",
    "# Minimum number of samples required at each leaf node\n",
    "min_samples_leaf = [1, 2]\n",
    "# Method of selecting samples for training each tree\n",
    "bootstrap = [True, False]\n",
    "\n",
    "param_grid = {'n_estimators': n_estimators,\n",
    "               'max_features': max_features,\n",
    "               'max_depth': max_depth,\n",
    "               'min_samples_split': min_samples_split,\n",
    "               'min_samples_leaf': min_samples_leaf,\n",
    "               'bootstrap': bootstrap}\n",
    "\n",
    "rf = RandomForestClassifier()\n",
    "\n",
    "rf_RandomGrid = RandomizedSearchCV(estimator = rf, param_distributions = param_grid, cv = 10, verbose=2, n_jobs = 4)\n",
    "rf_RandomGrid.fit(X_train, y_train)\n",
    "best_params = rf_RandomGrid.best_params_\n",
    "\n",
    "\n",
    "rf = RandomForestClassifier()\n",
    "rf.set_params(**best_params)\n",
    "rf.fit(X_res,y_res)\n",
    "y_pred = rf.predict(X_test)\n",
    "\n",
    "tn, fp, fn, tp = confusion_matrix(y_test, y_pred).ravel()\n",
    "\n",
    "print('From Confusion Matrix:')\n",
    "print(\"True Negatives: %s\" % tn)\n",
    "print(\"False Positives: %s\" % fp)\n",
    "print(\"False Negatives: %s\" % fn)\n",
    "print(\"True Positives: %s\" % tp)\n",
    "\n",
    "pd.DataFrame(classification_report(y_test, y_pred,output_dict=True))\n",
    "\n",
    "\n",
    "# feat_importances = pd.Series(rf.feature_importances_, index=X_res.columns)\n",
    "# feat_importances.nlargest(20).plot(kind='barh')"
   ]
  },
  {
   "cell_type": "code",
   "execution_count": null,
   "metadata": {},
   "outputs": [],
   "source": [
    "from sklearn.linear_model import LogisticRegression\n",
    "\n",
    "lr = LogisticRegression(solver='lbfgs',max_iter=3000)\n",
    "lr.fit(X_res,y_res)\n",
    "y_pred = lr.predict(X_test)\n",
    "report = classification_report(y_test,y_pred,target_names=['No WNV','WNV Present'],output_dict=True)\n",
    "tn, fp, fn, tp = confusion_matrix(y_test, y_pred).ravel()\n",
    "\n",
    "print('From Confusion Matrix:')\n",
    "print(\"True Negatives: %s\" % tn)\n",
    "print(\"False Positives: %s\" % fp)\n",
    "print(\"False Negatives: %s\" % fn)\n",
    "print(\"True Positives: %s\" % tp)\n",
    "pd.DataFrame(report)\n",
    "\n"
   ]
  },
  {
   "cell_type": "code",
   "execution_count": 224,
   "metadata": {},
   "outputs": [
    {
     "name": "stdout",
     "output_type": "stream",
     "text": [
      "From Confusion Matrix:\n",
      "True Negatives: 1831\n",
      "False Positives: 582\n",
      "False Negatives: 30\n",
      "True Positives: 99\n"
     ]
    },
    {
     "data": {
      "text/html": [
       "<div>\n",
       "<style scoped>\n",
       "    .dataframe tbody tr th:only-of-type {\n",
       "        vertical-align: middle;\n",
       "    }\n",
       "\n",
       "    .dataframe tbody tr th {\n",
       "        vertical-align: top;\n",
       "    }\n",
       "\n",
       "    .dataframe thead th {\n",
       "        text-align: right;\n",
       "    }\n",
       "</style>\n",
       "<table border=\"1\" class=\"dataframe\">\n",
       "  <thead>\n",
       "    <tr style=\"text-align: right;\">\n",
       "      <th></th>\n",
       "      <th>No WNV</th>\n",
       "      <th>WNV Present</th>\n",
       "      <th>accuracy</th>\n",
       "      <th>macro avg</th>\n",
       "      <th>weighted avg</th>\n",
       "    </tr>\n",
       "  </thead>\n",
       "  <tbody>\n",
       "    <tr>\n",
       "      <th>precision</th>\n",
       "      <td>0.983880</td>\n",
       "      <td>0.145374</td>\n",
       "      <td>0.759245</td>\n",
       "      <td>0.564627</td>\n",
       "      <td>0.941328</td>\n",
       "    </tr>\n",
       "    <tr>\n",
       "      <th>recall</th>\n",
       "      <td>0.758806</td>\n",
       "      <td>0.767442</td>\n",
       "      <td>0.759245</td>\n",
       "      <td>0.763124</td>\n",
       "      <td>0.759245</td>\n",
       "    </tr>\n",
       "    <tr>\n",
       "      <th>f1-score</th>\n",
       "      <td>0.856809</td>\n",
       "      <td>0.244444</td>\n",
       "      <td>0.759245</td>\n",
       "      <td>0.550627</td>\n",
       "      <td>0.825733</td>\n",
       "    </tr>\n",
       "    <tr>\n",
       "      <th>support</th>\n",
       "      <td>2413.000000</td>\n",
       "      <td>129.000000</td>\n",
       "      <td>0.759245</td>\n",
       "      <td>2542.000000</td>\n",
       "      <td>2542.000000</td>\n",
       "    </tr>\n",
       "  </tbody>\n",
       "</table>\n",
       "</div>"
      ],
      "text/plain": [
       "                No WNV  WNV Present  accuracy    macro avg  weighted avg\n",
       "precision     0.983880     0.145374  0.759245     0.564627      0.941328\n",
       "recall        0.758806     0.767442  0.759245     0.763124      0.759245\n",
       "f1-score      0.856809     0.244444  0.759245     0.550627      0.825733\n",
       "support    2413.000000   129.000000  0.759245  2542.000000   2542.000000"
      ]
     },
     "execution_count": 224,
     "metadata": {},
     "output_type": "execute_result"
    }
   ],
   "source": [
    "from sklearn.ensemble import GradientBoostingClassifier\n",
    "clf = GradientBoostingClassifier()\n",
    "\n",
    "params = {\n",
    "    \"n_estimators\":[5,50,250,500],\n",
    "    \"max_depth\":[1,3,5,7,9],\n",
    "    \"learning_rate\":[0.01,0.1,0.5,1,10,100]\n",
    "}\n",
    "\n",
    "cv = RandomizedSearchCV(clf, params)\n",
    "cv.fit(X_res,y_res)\n",
    "\n",
    "best_params = cv.best_params_\n",
    "clf.set_params(**best_params)\n",
    "clf.fit(X_res, y_res)\n",
    "\n",
    "y_pred = clf.predict(X_test)\n",
    "report = classification_report(y_test,y_pred,target_names=['No WNV','WNV Present'],output_dict=True)\n",
    "tn, fp, fn, tp = confusion_matrix(y_test, y_pred).ravel()\n",
    "\n",
    "print('From Confusion Matrix:')\n",
    "print(\"True Negatives: %s\" % tn)\n",
    "print(\"False Positives: %s\" % fp)\n",
    "print(\"False Negatives: %s\" % fn)\n",
    "print(\"True Positives: %s\" % tp)\n",
    "pd.DataFrame(report)"
   ]
  },
  {
   "cell_type": "code",
   "execution_count": null,
   "metadata": {},
   "outputs": [],
   "source": [
    "feat_importances = pd.Series(clf.feature_importances_, index=X_res.columns)\n",
    "feat_importances.nlargest(20).plot(kind='barh')\n"
   ]
  },
  {
   "cell_type": "code",
   "execution_count": null,
   "metadata": {},
   "outputs": [],
   "source": [
    "import shap\n",
    "shap.initjs()\n",
    "explainer = shap.Explainer(clf.predict, X_test)\n",
    "shap_values = explainer(X_test)\n",
    "shap.summary_plot(shap_values.values, X_test, plot_type='bar')"
   ]
  },
  {
   "cell_type": "code",
   "execution_count": 225,
   "metadata": {},
   "outputs": [
    {
     "name": "stdout",
     "output_type": "stream",
     "text": [
      "Fitting 5 folds for each of 10 candidates, totalling 50 fits\n",
      "From Confusion Matrix:\n",
      "True Negatives: 1817\n",
      "False Positives: 596\n",
      "False Negatives: 30\n",
      "True Positives: 99\n"
     ]
    },
    {
     "data": {
      "text/html": [
       "<div>\n",
       "<style scoped>\n",
       "    .dataframe tbody tr th:only-of-type {\n",
       "        vertical-align: middle;\n",
       "    }\n",
       "\n",
       "    .dataframe tbody tr th {\n",
       "        vertical-align: top;\n",
       "    }\n",
       "\n",
       "    .dataframe thead th {\n",
       "        text-align: right;\n",
       "    }\n",
       "</style>\n",
       "<table border=\"1\" class=\"dataframe\">\n",
       "  <thead>\n",
       "    <tr style=\"text-align: right;\">\n",
       "      <th></th>\n",
       "      <th>No WNV</th>\n",
       "      <th>WNV Present</th>\n",
       "      <th>accuracy</th>\n",
       "      <th>macro avg</th>\n",
       "      <th>weighted avg</th>\n",
       "    </tr>\n",
       "  </thead>\n",
       "  <tbody>\n",
       "    <tr>\n",
       "      <th>precision</th>\n",
       "      <td>0.983757</td>\n",
       "      <td>0.142446</td>\n",
       "      <td>0.753737</td>\n",
       "      <td>0.563102</td>\n",
       "      <td>0.941063</td>\n",
       "    </tr>\n",
       "    <tr>\n",
       "      <th>recall</th>\n",
       "      <td>0.753005</td>\n",
       "      <td>0.767442</td>\n",
       "      <td>0.753737</td>\n",
       "      <td>0.760223</td>\n",
       "      <td>0.753737</td>\n",
       "    </tr>\n",
       "    <tr>\n",
       "      <th>f1-score</th>\n",
       "      <td>0.853052</td>\n",
       "      <td>0.240291</td>\n",
       "      <td>0.753737</td>\n",
       "      <td>0.546671</td>\n",
       "      <td>0.821956</td>\n",
       "    </tr>\n",
       "    <tr>\n",
       "      <th>support</th>\n",
       "      <td>2413.000000</td>\n",
       "      <td>129.000000</td>\n",
       "      <td>0.753737</td>\n",
       "      <td>2542.000000</td>\n",
       "      <td>2542.000000</td>\n",
       "    </tr>\n",
       "  </tbody>\n",
       "</table>\n",
       "</div>"
      ],
      "text/plain": [
       "                No WNV  WNV Present  accuracy    macro avg  weighted avg\n",
       "precision     0.983757     0.142446  0.753737     0.563102      0.941063\n",
       "recall        0.753005     0.767442  0.753737     0.760223      0.753737\n",
       "f1-score      0.853052     0.240291  0.753737     0.546671      0.821956\n",
       "support    2413.000000   129.000000  0.753737  2542.000000   2542.000000"
      ]
     },
     "execution_count": 225,
     "metadata": {},
     "output_type": "execute_result"
    }
   ],
   "source": [
    "from sklearn.ensemble import AdaBoostClassifier\n",
    "from sklearn.tree import DecisionTreeClassifier\n",
    "\n",
    "\n",
    "abc = AdaBoostClassifier(base_estimator=DecisionTreeClassifier())\n",
    "\n",
    "parameters = {'base_estimator__max_depth':[i for i in range(1,10,1)],\n",
    "              'base_estimator__min_samples_leaf':[5,10],\n",
    "              'n_estimators':[10,50,250,1000],\n",
    "              'learning_rate':[0.01,0.1,1,10]}\n",
    "\n",
    "abc_clf = RandomizedSearchCV(abc, parameters,verbose=3,scoring='f1',n_jobs=-1)\n",
    "abc_clf.fit(X_res,y_res)\n",
    "\n",
    "abc.set_params(**abc_clf.best_params_)\n",
    "abc.fit(X_res, y_res)\n",
    "y_pred = abc.predict(X_test)\n",
    "report = classification_report(y_test,y_pred,target_names=['No WNV','WNV Present'],output_dict=True)\n",
    "tn, fp, fn, tp = confusion_matrix(y_test, y_pred).ravel()\n",
    "\n",
    "print('From Confusion Matrix:')\n",
    "print(\"True Negatives: %s\" % tn)\n",
    "print(\"False Positives: %s\" % fp)\n",
    "print(\"False Negatives: %s\" % fn)\n",
    "print(\"True Positives: %s\" % tp)\n",
    "pd.DataFrame(report)\n",
    "\n"
   ]
  },
  {
   "cell_type": "code",
   "execution_count": 226,
   "metadata": {},
   "outputs": [
    {
     "data": {
      "text/plain": [
       "array([0.77734483, 0.33853767, 0.87438534, ..., 0.80559041, 0.5335823 ,\n",
       "       0.32581827])"
      ]
     },
     "execution_count": 226,
     "metadata": {},
     "output_type": "execute_result"
    }
   ],
   "source": [
    "y_score = clf.predict_proba(X_test)[:,1]\n",
    "y_score"
   ]
  },
  {
   "cell_type": "code",
   "execution_count": 227,
   "metadata": {},
   "outputs": [
    {
     "data": {
      "image/png": "[encoded data removed]",
      "text/plain": [
       "<Figure size 432x288 with 1 Axes>"
      ]
     },
     "metadata": {
      "needs_background": "light"
     },
     "output_type": "display_data"
    }
   ],
   "source": [
    "from sklearn.metrics import roc_curve, roc_auc_score\n",
    "\n",
    "\n",
    "fpr, tpr, thresholds = roc_curve(y_test, y_score)\n",
    "auc_score = roc_auc_score(y_test, y_score)\n",
    "\n",
    "import matplotlib.pyplot as plt\n",
    "plt.title('Precision-Recall Curve')\n",
    "plt.plot(fpr, tpr, 'b', label = 'PR = %0.2f' % auc_score)\n",
    "plt.legend(loc = 'lower right')\n",
    "plt.plot([0, 1], [0, 1],'r--')\n",
    "\n",
    "plt.ylabel('Precision')\n",
    "plt.xlabel('Recall')\n",
    "plt.show()"
   ]
  },
  {
   "cell_type": "code",
   "execution_count": null,
   "metadata": {},
   "outputs": [],
   "source": [
    "# observe the best performance from the gradient boosting algorithm\n",
    "# based on the f1-score: 0.2444\n",
    "# we therefore perform a shaply analysis to understand the model features which have the largest influence in predicting WNV"
   ]
  },
  {
   "cell_type": "code",
   "execution_count": 228,
   "metadata": {},
   "outputs": [
    {
     "name": "stderr",
     "output_type": "stream",
     "text": [
      "Permutation explainer: 2543it [01:09, 31.45it/s]                          \n"
     ]
    },
    {
     "data": {
      "image/png": "[encoded data removed]",
      "text/plain": [
       "<Figure size 576x684 with 1 Axes>"
      ]
     },
     "metadata": {
      "needs_background": "light"
     },
     "output_type": "display_data"
    }
   ],
   "source": [
    "explainer = shap.Explainer(clf.predict, X_test)\n",
    "shap_values = explainer(X_test)\n",
    "shap.summary_plot(shap_values.values, X_test, plot_type='bar')"
   ]
  },
  {
   "cell_type": "code",
   "execution_count": null,
   "metadata": {},
   "outputs": [],
   "source": [
    "# highest impact features:\n",
    "# NumMosquitos, month_6, month_7\n",
    "\n",
    "# the most effective way to decrease the presence of the WNV is to limit the mosquito population\n",
    "# the occurence of sprays does not currently have an appreciable effect\n",
    "\n",
    "# It is recommended that the city of Chicago increase the location of sprays "
   ]
  }
 ],
 "metadata": {
  "kernelspec": {
   "display_name": "Python 3.9.9 64-bit",
   "language": "python",
   "name": "python3"
  },
  "language_info": {
   "codemirror_mode": {
    "name": "ipython",
    "version": 3
   },
   "file_extension": ".py",
   "mimetype": "text/x-python",
   "name": "python",
   "nbconvert_exporter": "python",
   "pygments_lexer": "ipython3",
   "version": "3.9.9"
  },
  "orig_nbformat": 4,
  "vscode": {
   "interpreter": {
    "hash": "52ac5c1b96eaf0e658e9b2cfd0a9f78f43ee4da7a9c92354e71f5020febd0795"
   }
  }
 },
 "nbformat": 4,
 "nbformat_minor": 2
}
